{
 "cells": [
  {
   "cell_type": "markdown",
   "id": "21b6ce53-a903-4733-bdc6-4d0715da7338",
   "metadata": {},
   "source": [
    "# Test Analysis - Lupus"
   ]
  },
  {
   "cell_type": "markdown",
   "id": "260ef5ff-5f38-4bb7-9c32-777bc10f63cd",
   "metadata": {},
   "source": [
    "## Cluester/s"
   ]
  },
  {
   "cell_type": "markdown",
   "id": "07db5247-bc6f-4e92-b48e-45fd3231c93e",
   "metadata": {},
   "source": [
    "### Importing data"
   ]
  },
  {
   "cell_type": "code",
   "execution_count": 3,
   "id": "842c141f-852a-4a61-8575-5852457beab5",
   "metadata": {},
   "outputs": [],
   "source": [
    "#lupus_data = cluster_import('Lupus_data')\n",
    "\n",
    "#lupus_data"
   ]
  },
  {
   "cell_type": "code",
   "execution_count": 5,
   "id": "76ebe384-8868-4bfe-a131-e16ac9a6bc39",
   "metadata": {},
   "outputs": [],
   "source": [
    "#NGC2264_data = cluster_import('NGC2264_data')\n",
    "\n",
    "# Importing data for NGC2547 and remove \"bad\" stars. Can I do this???\n",
    "#NGC2547_data = cluster_import('NGC2547_data')\n",
    "#NGC2547_mask = NGC2547_data['bp_rp'].value>0\n",
    "#NGC2547_data = NGC2547_data[NGC2547_mask]\n"
   ]
  },
  {
   "cell_type": "markdown",
   "id": "1c4343fd-8403-4dbb-bb7e-d8379fc84218",
   "metadata": {},
   "source": [
    "### Plotting data in CMD"
   ]
  },
  {
   "cell_type": "code",
   "execution_count": 6,
   "id": "d13f46f8-8cb6-4d90-a0d2-1cb1b0073812",
   "metadata": {},
   "outputs": [],
   "source": [
    "#plotting_iso_and_data(all_data=[NGC2264_data], all_iso_data=None, \n",
    "#                      cluster_names=['NGC2264'], model='Baraffe', \n",
    "#                      data_alpha=0.25, CMD_or_mass='CMD')"
   ]
  },
  {
   "cell_type": "markdown",
   "id": "f5f6eb6f-468a-4937-8061-a0240403aa52",
   "metadata": {},
   "source": [
    "## Isochrone/s"
   ]
  },
  {
   "cell_type": "markdown",
   "id": "d24daf88-e6c8-453e-925e-a2fb9d8ea199",
   "metadata": {},
   "source": [
    "### Importing isochrone data"
   ]
  },
  {
   "cell_type": "code",
   "execution_count": 7,
   "id": "e7cf3284-7377-4d9d-8389-b35b9d7fbf8c",
   "metadata": {},
   "outputs": [],
   "source": [
    "#times_str = ['0_0005', '0_0010', '0_0020', '0_0030', '0_0040', '0_0050', '0_0080', '0_01', '0_02', \n",
    "#         '0_03', '0_04', '0_05', '0_08', '0_1', '0_2', '0_3', '0_4', '0_5', '0_625', '0_8', \n",
    "#         '1', '2', '3', '4', '5', '8', '10']\n",
    "\n",
    "#times_num = [0.0005, 0.0010, 0.0020, 0.0030, 0.0040, 0.0050, 0.0080, 0.01, 0.02, 0.03, 0.04, 0.05, \n",
    "#             0.08, 0.1, 0.2, 0.3, 0.4, 0.5, 0.625, 0.8, 1, 2, 3, 4, 5, 8, 10]\n",
    "\n",
    "#all_iso_data, all_iso_ages = separate_isochrones('Baraffe', '0.00', survey='gaia')\n",
    "#iso_params = isochrone_params(all_iso_data, 'Baraffe')"
   ]
  },
  {
   "cell_type": "markdown",
   "id": "05d9e070-2021-4721-a98c-083fa5cc09e1",
   "metadata": {},
   "source": [
    "### Plotting isochrone"
   ]
  },
  {
   "cell_type": "code",
   "execution_count": 8,
   "id": "b8950be4-8ae3-4425-8e2f-c52494e6d627",
   "metadata": {},
   "outputs": [],
   "source": [
    "#plotting_iso_and_data(None, all_iso_data[0:5], ['Lupus'], 'Baraffe', data_alpha=0.5, \n",
    "#                      CMD_or_mass='CMD')"
   ]
  },
  {
   "cell_type": "markdown",
   "id": "211c4a10-ac4e-40e2-b6c6-4017366ae3fe",
   "metadata": {},
   "source": [
    "### Plotting cluster with isochrone"
   ]
  },
  {
   "cell_type": "code",
   "execution_count": 9,
   "id": "abbdc6f5-c028-401d-a82a-6faa28c7a157",
   "metadata": {},
   "outputs": [],
   "source": [
    "#plotting_iso_and_data(all_data=[NGC2264_data], all_iso_data=all_iso_data[2:7], \n",
    "#                      cluster_names=['NGC2264'], model='Baraffe', data_alpha=0.5, CMD_or_mass='CMD')"
   ]
  },
  {
   "cell_type": "markdown",
   "id": "250c676a-6ef3-4009-80bb-2cd1083b517a",
   "metadata": {},
   "source": [
    "## Using all-in-one function"
   ]
  },
  {
   "cell_type": "markdown",
   "id": "a7ac5d4e-7ded-4ce2-9b93-163ab73bf626",
   "metadata": {},
   "source": [
    "cluster_data, cluster_names, model, metallicity, bin_width, age_fit_plot=True, \n",
    "chi_plot=True, save_chi_plot=False, plot_hists=True, save_plot_hists=True"
   ]
  },
  {
   "cell_type": "code",
   "execution_count": 10,
   "id": "627dbdc5-9a49-4c18-8224-7ec81281ddc9",
   "metadata": {},
   "outputs": [],
   "source": [
    "#log_cluster_counts, log_cluster_edges, cluster_masses, cluster_ages = final_IMFs([lupus_data, NGC2264_data, NGC2547_data], \n",
    "#                                                                                 ['Lupus', 'NGC2264', 'NGC2547'], 'Baraffe', '0.00', \n",
    "#                                                                                 0.2, True, True, False, True, False)"
   ]
  },
  {
   "cell_type": "code",
   "execution_count": 13,
   "id": "4862176c-6506-459a-a581-b90ad57798ae",
   "metadata": {},
   "outputs": [],
   "source": [
    "#print(log_cluster_counts.shape)\n",
    "#print(log_cluster_edges.shape)"
   ]
  },
  {
   "cell_type": "markdown",
   "id": "a7e1b23f-770b-44ce-babd-dd3e84e7e9ea",
   "metadata": {},
   "source": [
    "### Plotting colour histogram for lupus"
   ]
  },
  {
   "cell_type": "code",
   "execution_count": 11,
   "id": "b744cd31-c186-4200-a937-22d49d1996f9",
   "metadata": {},
   "outputs": [],
   "source": [
    "#fig_test, ax_test = plt.subplots(1, 2, figsize=(12, 5))\n",
    "\n",
    "#ax_test[0].hist(lupus_data['bp_rp'].value, bins=15, align='left', histtype='stepfilled', \n",
    "#            fc=(0, 0, 1, 0.25), ec='b', lw=1.5)\n",
    "\n",
    "#ax_test[0].set_xlabel(r'G$_{BP}$ - G$_{RP}$')\n",
    "#ax_test[0].set_ylabel('Counts')\n",
    "#ax_test[0].set_title('Colour count Lupus')\n",
    "\n",
    "\n",
    "\n",
    "\n",
    "\n",
    "#ax_test[1].hist(lupus_data['bp_rp'].value, \n",
    "#            range=(np.log10(np.min(lupus_data['bp_rp'].value)), np.log10(np.max(lupus_data['bp_rp'].value))), \n",
    "#            bins=np.logspace(np.log10(np.min(lupus_data['bp_rp'].value)), np.log10(np.max(lupus_data['bp_rp'].value)), 15),\n",
    "#            align='left', histtype='stepfilled', fc=(0, 0, 1, 0.25), ec='b', lw=1.5)\n",
    "\n",
    "#ax_test[1].set_xlabel(r'G$_{BP}$ - G$_{RP}$')\n",
    "#ax_test[1].set_ylabel('Counts')\n",
    "#ax_test[1].set_title('Colour count Lupus')\n",
    "\n",
    "#ax_test[1].set_xscale('log')\n",
    "\n",
    "#plt.tight_layout()\n",
    "#plt.savefig('Lupus_colour_hist2.png')\n",
    "#plt.show()"
   ]
  },
  {
   "cell_type": "markdown",
   "id": "695fc066-7b42-4c87-965e-7b9763c8243f",
   "metadata": {},
   "source": [
    "# Real analysis"
   ]
  },
  {
   "cell_type": "code",
   "execution_count": 1,
   "id": "7e661152-c77d-4e8d-bf49-1333adfe325f",
   "metadata": {},
   "outputs": [
    {
     "ename": "NameError",
     "evalue": "name 'clusters_sep_clean' is not defined",
     "output_type": "error",
     "traceback": [
      "\u001b[1;31m---------------------------------------------------------------------------\u001b[0m",
      "\u001b[1;31mNameError\u001b[0m                                 Traceback (most recent call last)",
      "\u001b[1;32m~\\AppData\\Local\\Temp\\ipykernel_4652\\3714581157.py\u001b[0m in \u001b[0;36m<module>\u001b[1;34m\u001b[0m\n\u001b[1;32m----> 1\u001b[1;33m \u001b[0mclusters_n_stars_clean\u001b[0m \u001b[1;33m=\u001b[0m \u001b[1;33m[\u001b[0m\u001b[0mlen\u001b[0m\u001b[1;33m(\u001b[0m\u001b[0mi\u001b[0m\u001b[1;33m)\u001b[0m \u001b[1;32mfor\u001b[0m \u001b[0mi\u001b[0m \u001b[1;32min\u001b[0m \u001b[0mclusters_sep_clean\u001b[0m\u001b[1;33m]\u001b[0m\u001b[1;33m\u001b[0m\u001b[1;33m\u001b[0m\u001b[0m\n\u001b[0m\u001b[0;32m      2\u001b[0m \u001b[1;33m\u001b[0m\u001b[0m\n\u001b[0;32m      3\u001b[0m \u001b[1;31m#fig0,ax0 = plt.subplots(2, 1, figsize=(10, 8))\u001b[0m\u001b[1;33m\u001b[0m\u001b[1;33m\u001b[0m\u001b[0m\n\u001b[0;32m      4\u001b[0m \u001b[1;33m\u001b[0m\u001b[0m\n\u001b[0;32m      5\u001b[0m \u001b[1;31m#ax0[0].hist(clusters_n_stars_clean, bins=100, histtype='step', ec='b', lw=1.5 ) #fc=(0, 0, 1, 0.25)\u001b[0m\u001b[1;33m\u001b[0m\u001b[1;33m\u001b[0m\u001b[0m\n",
      "\u001b[1;31mNameError\u001b[0m: name 'clusters_sep_clean' is not defined"
     ]
    }
   ],
   "source": [
    "clusters_n_stars_clean = [len(i) for i in clusters_sep_clean]\n",
    "\n",
    "#fig0,ax0 = plt.subplots(2, 1, figsize=(10, 8))\n",
    "\n",
    "#ax0[0].hist(clusters_n_stars_clean, bins=100, histtype='step', ec='b', lw=1.5 ) #fc=(0, 0, 1, 0.25)\n",
    "\n",
    "#ax0[0].set_xlabel('Number of stars')\n",
    "#ax0[0].set_ylabel('Counts')\n",
    "#ax0[0].set_title('Cluster size distribution')\n",
    "#ax0[0].set_xlim(-100, 14900)\n",
    "\n",
    "\n",
    "\n",
    "#ax0[1].hist(clusters_n_stars_clean, bins=600, histtype='step', ec='b', lw=1.5 ) #fc=(0, 0, 1, 0.25)\n",
    "\n",
    "#ax0[1].set_xlabel('Number of stars')\n",
    "#ax0[1].set_ylabel('Counts')\n",
    "#ax0[1].set_title('Cluster size distribution zoomed in')\n",
    "#ax0[1].set_xlim(490, 4000)\n",
    "\n",
    "#plt.tight_layout()\n",
    "#plt.show()"
   ]
  },
  {
   "cell_type": "code",
   "execution_count": 10,
   "id": "736dd868-ed27-4652-a946-f486f3f8a68b",
   "metadata": {},
   "outputs": [],
   "source": [
    "#%%time\n",
    "#tmass_cluster_data = QTable.read('Filtered_tmass_cluster_data.csv', format='csv', delimiter=',')\n",
    "\n",
    "\n",
    "#tmass_sorted_data, cluster_data_short = sorting_2mass_data(tmass_cluster_data)"
   ]
  },
  {
   "cell_type": "code",
   "execution_count": 11,
   "id": "f96b60b8-0624-48c0-b14c-9eb236a2924e",
   "metadata": {},
   "outputs": [],
   "source": [
    "#tmass_clusters_sep, tmass_cluster_names = cluster_list(tmass_sorted_data, 40, '2mass', None, 5000)\n",
    "\n",
    "#print(len(tmass_clusters_sep))\n",
    "# Only for bin width of 0.2 dex\n",
    "#del [tmass_clusters_sep[499]] # Problems for Baraffe\n",
    "\n",
    "#del [tmass_clusters_sep[310]] # Problems for MIST\n",
    "\n",
    "#del [tmass_clusters_sep[76]] # Problems for MIST\n",
    "\n",
    "#del [tmass_clusters_sep[71]] # Problems for Baraffe"
   ]
  },
  {
   "cell_type": "code",
   "execution_count": null,
   "id": "59937a77-aaa9-411a-9985-617ac38871e1",
   "metadata": {},
   "outputs": [],
   "source": [
    "#tmass_clusters_names_float = np.array([float(x) for x in tmass_cluster_names])\n",
    "\n",
    "#print(tmass_clusters_sep[0].columns)\n",
    "\n",
    "#print(len(tmass_clusters_sep))\n",
    "\n",
    "#common_clusters, gaia_indices, tmass_indices = np.intersect1d(clusters_names_float, \n",
    "#                                                              tmass_clusters_names_float,\n",
    "#                                                              return_indices=True)\n",
    "\n",
    "#print(len(common_clusters))"
   ]
  },
  {
   "cell_type": "code",
   "execution_count": null,
   "id": "acbfc8ce-4a4e-427e-8a31-adad03544907",
   "metadata": {},
   "outputs": [],
   "source": [
    "print(all_cluster_params_Baraffe_clean.shape)\n",
    "\n",
    "if any(np.isnan(all_cluster_params_Baraffe_clean[:, 0, 2])):\n",
    "    print('There are some nans')\n",
    "    nan_pos = np.where(np.isnan(all_cluster_params_Baraffe_clean[:, 0, 2]))[0]\n",
    "    print(nan_pos)\n",
    "    print(len(nan_pos))\n",
    "    \n",
    "    \n",
    "if any(all_cluster_params_Baraffe_clean[:, 0, 2]==0.0):\n",
    "    print('There are some zeros')\n",
    "    zero_pos = np.where(all_cluster_params_Baraffe_clean[:, 0, 2]==0.)[0]\n",
    "    print(zero_pos)"
   ]
  },
  {
   "cell_type": "code",
   "execution_count": null,
   "id": "483e3f14-f465-4295-8af7-b1d8e2e20fba",
   "metadata": {},
   "outputs": [],
   "source": [
    "# Only for bin width of 0.2 dex\n",
    "#del [clusters_sep[499]] # Problems for Baraffe\n",
    "#del [clusters_names[499]]\n",
    "\n",
    "#del [clusters_sep_MIST[310]] # Problems for MIST\n",
    "#del [clusters_names_MIST[310]]\n",
    "\n",
    "#del [clusters_sep_MIST[76]] # Problems for MIST\n",
    "#del [clusters_names_MIST[76]]\n",
    "\n",
    "#del [clusters_sep_MIST[71]] # Problems for Baraffe\n",
    "#del [clusters_names_MIST[71]]\n"
   ]
  },
  {
   "cell_type": "code",
   "execution_count": 168,
   "id": "24b6c6b1-7510-4c5b-8202-a7fa9abb716f",
   "metadata": {},
   "outputs": [],
   "source": [
    "#tmass_clusters_sep_MIST, tmass_cluster_names_MIST = cluster_list(tmass_sorted_data, 450, '2mass', None, 600)\n",
    "\n",
    "# Only for bin width of 0.2 dex\n",
    "#del [tmass_clusters_sep[499]] # Problems for Baraffe\n",
    "\n",
    "#del [tmass_clusters_sep_MIST[310]] # Problems for MIST\n",
    "\n",
    "#del [tmass_clusters_sep_MIST[76]] # Problems for MIST\n",
    "\n",
    "#del [tmass_clusters_sep_MIST[71]] # Problems for Baraffe"
   ]
  },
  {
   "cell_type": "code",
   "execution_count": 169,
   "id": "17a92551-b9d4-49a9-8caa-65a1a729b596",
   "metadata": {},
   "outputs": [
    {
     "name": "stdout",
     "output_type": "stream",
     "text": [
      "<TableColumns names=('GaiaID','Parallax','Parallax_error','M_apparent','G_bp','G_rp','Cluster_number','RA_ICRS','DE_ICRS','dist','dist_error','bp_rp','M_V')>\n",
      "\n",
      "384\n",
      "\n"
     ]
    }
   ],
   "source": [
    "\n",
    "#tmass_clusters_names_float_MIST = np.array([float(x) for x in tmass_cluster_names_MIST])\n",
    "\n",
    "#print(tmass_clusters_sep_MIST[0].columns)\n",
    "\n",
    "\n",
    "#print()\n",
    "\n",
    "#print(len(tmass_clusters_sep))\n",
    "\n",
    "#print()\n",
    "\n",
    "#common_clusters_MIST, gaia_indices_MIST, tmass_indices_MIST = np.intersect1d(clusters_names_float_MIST, \n",
    "#                                                              tmass_clusters_names_float_MIST,\n",
    "#                                                              return_indices=True)\n",
    "\n",
    "#print(len(common_clusters_MIST))\n",
    "\n",
    "\n",
    "\n",
    "#print(clusters_sep[0]['GaiaID'])"
   ]
  },
  {
   "cell_type": "code",
   "execution_count": 172,
   "id": "570b8856-4468-4e92-969d-731dd7d6c8d9",
   "metadata": {},
   "outputs": [],
   "source": [
    "#del [cluster_log_edges_MIST[333]]\n",
    "#del [cluster_log_counts_MIST[333]]\n",
    "#del [cluster_masses_MIST[333]]\n",
    "#cluster_ages_MIST = np.delete(cluster_ages_MIST, 333)\n",
    "\n",
    "#del [cluster_log_edges_MIST[254]]\n",
    "#del [cluster_log_counts_MIST[254]]\n",
    "#del [cluster_masses_MIST[254]]\n",
    "#cluster_ages_MIST = np.delete(cluster_ages_MIST, 254)"
   ]
  },
  {
   "cell_type": "code",
   "execution_count": 176,
   "id": "7619467d-348b-4278-b50d-133d8de69b42",
   "metadata": {},
   "outputs": [
    {
     "name": "stdout",
     "output_type": "stream",
     "text": [
      "(361, 2, 4)\n",
      "(347, 2, 4)\n",
      "There are some nans in interval 3 Baraffe\n",
      "[ 14  15  38  88 102 182 219 332 340 344]\n",
      "10\n",
      "There are some nans in interval 3 MIST\n",
      "[ 14  97 146 160 161 164 175 198 212 215 294 314 327]\n",
      "13\n",
      "There are some nans in interval 4 Baraffe\n",
      "[  0   1   2   3   4   5   6   7   8   9  10  11  12  13  14  15  16  17\n",
      "  18  19  20  21  22  23  24  25  26  27  28  29  30  31  32  33  34  35\n",
      "  36  37  38  39  40  41  42  43  44  45  46  47  48  49  50  51  52  53\n",
      "  54  55  56  57  58  59  60  61  62  63  64  65  66  67  68  69  70  71\n",
      "  72  73  74  75  76  77  78  79  80  81  82  83  84  85  86  87  88  89\n",
      "  90  91  92  93  94  95  96  97  98  99 100 101 102 103 104 105 106 107\n",
      " 108 109 110 111 112 113 114 115 116 117 118 119 120 121 122 123 124 125\n",
      " 126 127 128 129 130 131 132 133 134 135 136 137 138 139 140 141 142 143\n",
      " 144 145 146 147 148 149 150 151 152 153 154 155 156 157 158 159 160 161\n",
      " 162 163 164 165 166 167 168 169 170 171 172 173 174 175 176 177 178 179\n",
      " 180 181 182 183 184 185 186 187 188 189 190 191 192 193 194 195 196 197\n",
      " 198 199 200 201 202 203 204 205 206 207 208 209 210 211 212 213 214 215\n",
      " 216 217 218 219 220 221 222 223 224 225 226 227 228 229 230 231 232 233\n",
      " 234 235 236 237 238 239 240 241 242 243 244 245 246 247 248 249 250 251\n",
      " 252 253 254 255 256 257 258 259 260 261 262 263 264 265 266 267 268 269\n",
      " 270 271 272 273 274 275 276 277 278 279 280 281 282 283 284 285 286 287\n",
      " 288 289 290 291 292 293 294 295 296 297 298 299 300 301 302 303 304 305\n",
      " 306 307 308 309 310 311 312 313 314 315 316 317 318 319 320 321 322 323\n",
      " 324 325 326 327 328 329 331 332 333 335 336 337 338 339 340 341 342 343\n",
      " 344 345 346 347 348 349 350 351 353 354 355 356 357 358 359 360]\n",
      "358\n",
      "There are some nans in interval 4 MIST\n",
      "[  3   5   6   7   8  10  11  13  14  15  16  17  18  19  20  21  23  24\n",
      "  26  27  28  29  30  31  32  33  34  35  36  37  38  39  41  42  43  44\n",
      "  45  46  47  48  49  50  51  52  53  54  57  58  59  60  61  62  63  64\n",
      "  65  67  68  69  70  71  72  73  74  75  76  78  79  80  81  82  83  84\n",
      "  85  86  87  88  89  90  91  93  94  96  97  98  99 100 101 102 103 104\n",
      " 105 106 107 108 109 110 111 112 113 114 115 116 117 120 121 122 123 124\n",
      " 125 126 127 128 129 130 131 133 134 135 137 138 139 140 141 142 143 144\n",
      " 145 146 147 148 149 150 151 152 153 154 155 156 157 158 159 160 161 163\n",
      " 164 165 166 167 168 169 170 171 172 173 175 176 177 178 179 180 181 182\n",
      " 183 184 185 186 187 188 189 191 192 193 195 196 197 198 199 200 201 202\n",
      " 205 208 209 210 211 212 213 214 215 216 217 219 220 221 224 225 228 230\n",
      " 231 233 234 235 236 237 239 240 241 242 243 244 245 247 248 249 250 251\n",
      " 252 253 254 255 256 257 258 259 260 261 262 263 264 265 267 269 270 272\n",
      " 273 274 275 276 277 279 280 281 282 283 284 286 287 288 289 290 291 292\n",
      " 293 294 295 297 298 299 301 303 304 308 309 311 312 314 316 320 322 326\n",
      " 327 329 334 336 338 340 342 343 345 346]\n",
      "280\n"
     ]
    }
   ],
   "source": [
    "for i in range(2, 4):\n",
    "    if any(np.isnan(all_cluster_params_Baraffe[:, 0, i])):\n",
    "        print(f'There are some nans in interval {i+1} Baraffe')\n",
    "        nan_pos = np.where(np.isnan(all_cluster_params_Baraffe[:, 0, i]))[0]\n",
    "        print(nan_pos)\n",
    "        print(len(nan_pos))\n",
    "    \n",
    "\n",
    "    if any(np.isnan(all_cluster_params_MIST[:, 0, i])):\n",
    "        print(f'There are some nans in interval {i+1} MIST')\n",
    "        nan_pos = np.where(np.isnan(all_cluster_params_MIST[:, 0, i]))[0]\n",
    "        print(nan_pos)\n",
    "        print(len(nan_pos))\n",
    "        \n",
    "        \n",
    "    if any(all_cluster_params_Baraffe[:, 0, i]==0.0):\n",
    "        print(f'There are some zeros in interval {i+1} Baraffe')\n",
    "        zero_pos = np.where(all_cluster_params_Baraffe[:, 0, i]==0.)[0]\n",
    "        print(zero_pos)\n",
    "    \n",
    "    \n",
    "    if any(all_cluster_params_MIST[:, 0, i]==0.0):\n",
    "        print(f'There are some zeros in interval {i+1} MIST')\n",
    "        zero_pos = np.where(all_cluster_params_MIST[:, 0, i]==0.)[0]\n",
    "        print(zero_pos)"
   ]
  },
  {
   "cell_type": "code",
   "execution_count": 152,
   "id": "2833f82a-89a6-4cf4-ab5b-3e1df824686e",
   "metadata": {},
   "outputs": [
    {
     "data": {
      "image/png": "[encoded data removed]",
      "text/plain": [
       "<Figure size 1000x800 with 2 Axes>"
      ]
     },
     "metadata": {},
     "output_type": "display_data"
    }
   ],
   "source": [
    "clusters_n_stars = [len(i) for i in clusters_sep]\n",
    "\n",
    "\n",
    "fig0,ax0 = plt.subplots(2, 1, figsize=(10, 8))\n",
    "\n",
    "ax0[0].hist(clusters_n_stars, bins=100, histtype='step', ec='b', lw=1.5 ) #fc=(0, 0, 1, 0.25)\n",
    "\n",
    "ax0[0].set_xlabel('Number of stars')\n",
    "ax0[0].set_ylabel('Counts')\n",
    "ax0[0].set_title('Cluster size distribution')\n",
    "ax0[0].set_xlim(-100, 14900)\n",
    "\n",
    "\n",
    "\n",
    "ax0[1].hist(clusters_n_stars, bins=600, histtype='step', ec='b', lw=1.5 ) #fc=(0, 0, 1, 0.25)\n",
    "\n",
    "ax0[1].set_xlabel('Number of stars')\n",
    "ax0[1].set_ylabel('Counts')\n",
    "ax0[1].set_title('Cluster size distribution zoomed in')\n",
    "ax0[1].set_xlim(490, 4000)\n",
    "\n",
    "plt.tight_layout()\n",
    "plt.show()"
   ]
  },
  {
   "cell_type": "code",
   "execution_count": 10,
   "id": "ccc0c436-8f85-4c71-b982-2749d53cf4dd",
   "metadata": {},
   "outputs": [],
   "source": [
    "#%%time\n",
    "#tmass_cluster_data = QTable.read('Filtered_tmass_cluster_data.csv', format='csv', delimiter=',')\n",
    "\n",
    "\n",
    "#tmass_sorted_data, cluster_data_short = sorting_2mass_data(tmass_cluster_data)"
   ]
  },
  {
   "cell_type": "code",
   "execution_count": 11,
   "id": "10b61fbe-4c36-4ce1-9fc7-bceca8c99ec2",
   "metadata": {},
   "outputs": [],
   "source": [
    "#tmass_clusters_sep, tmass_cluster_names = cluster_list(tmass_sorted_data, 40, '2mass', None, 5000)\n",
    "\n",
    "#print(len(tmass_clusters_sep))\n",
    "# Only for bin width of 0.2 dex\n",
    "#del [tmass_clusters_sep[499]] # Problems for Baraffe\n",
    "\n",
    "#del [tmass_clusters_sep[310]] # Problems for MIST\n",
    "\n",
    "#del [tmass_clusters_sep[76]] # Problems for MIST\n",
    "\n",
    "#del [tmass_clusters_sep[71]] # Problems for Baraffe"
   ]
  },
  {
   "cell_type": "code",
   "execution_count": null,
   "id": "176d1c6f-239f-434d-bed9-c82724e2fd39",
   "metadata": {},
   "outputs": [],
   "source": [
    "#tmass_clusters_names_float = np.array([float(x) for x in tmass_cluster_names])\n",
    "\n",
    "#print(tmass_clusters_sep[0].columns)\n",
    "\n",
    "\n",
    "#print()\n",
    "\n",
    "#print(len(tmass_clusters_sep))\n",
    "\n",
    "\n",
    "#common_clusters, gaia_indices, tmass_indices = np.intersect1d(clusters_names_float, \n",
    "#                                                              tmass_clusters_names_float,\n",
    "#                                                              return_indices=True)\n",
    "\n",
    "#print(len(common_clusters))"
   ]
  },
  {
   "cell_type": "code",
   "execution_count": 164,
   "id": "939d748c-d29e-4dea-a1cd-08507e4ee964",
   "metadata": {},
   "outputs": [
    {
     "name": "stdout",
     "output_type": "stream",
     "text": [
      "(361, 2, 4)\n",
      "There are some nans\n",
      "[ 14  15  38  88 102 182 219 332 340 344]\n",
      "10\n"
     ]
    }
   ],
   "source": [
    "print(all_cluster_params_Baraffe.shape)\n",
    "\n",
    "if any(np.isnan(all_cluster_params_Baraffe[:, 0, 2])):\n",
    "    print('There are some nans')\n",
    "    nan_pos = np.where(np.isnan(all_cluster_params_Baraffe[:, 0, 2]))[0]\n",
    "    print(nan_pos)\n",
    "    print(len(nan_pos))\n",
    "    \n",
    "    \n",
    "if any(all_cluster_params_Baraffe[:, 0, 2]==0.0):\n",
    "    print('There are some zeros')\n",
    "    zero_pos = np.where(all_cluster_params_Baraffe[:, 0, 2]==0.)[0]\n",
    "    print(zero_pos)"
   ]
  },
  {
   "cell_type": "code",
   "execution_count": 168,
   "id": "f34c16ab-d417-4987-842b-1b1adc27b30a",
   "metadata": {},
   "outputs": [],
   "source": [
    "#tmass_clusters_sep_MIST, tmass_cluster_names_MIST = cluster_list(tmass_sorted_data, 450, '2mass', None, 600)\n",
    "\n",
    "# Only for bin width of 0.2 dex\n",
    "#del [tmass_clusters_sep[499]] # Problems for Baraffe\n",
    "\n",
    "#del [tmass_clusters_sep_MIST[310]] # Problems for MIST\n",
    "\n",
    "#del [tmass_clusters_sep_MIST[76]] # Problems for MIST\n",
    "\n",
    "#del [tmass_clusters_sep_MIST[71]] # Problems for Baraffe"
   ]
  },
  {
   "cell_type": "code",
   "execution_count": null,
   "id": "3447baff-5078-4e97-8bd1-1f21f8490172",
   "metadata": {},
   "outputs": [],
   "source": [
    "#tmass_clusters_names_float_MIST = np.array([float(x) for x in tmass_cluster_names_MIST])\n",
    "\n",
    "#print(tmass_clusters_sep_MIST[0].columns)\n",
    "\n",
    "#print()\n",
    "\n",
    "#common_clusters_MIST, gaia_indices_MIST, tmass_indices_MIST = np.intersect1d(clusters_names_float_MIST, \n",
    "#                                                              tmass_clusters_names_float_MIST,\n",
    "#                                                              return_indices=True)\n",
    "\n",
    "#print(len(common_clusters_MIST))"
   ]
  },
  {
   "cell_type": "code",
   "execution_count": 172,
   "id": "0e081905-12ea-4ce6-9164-cd0815977547",
   "metadata": {},
   "outputs": [],
   "source": [
    "#del [cluster_log_edges_MIST[333]]\n",
    "#del [cluster_log_counts_MIST[333]]\n",
    "#del [cluster_masses_MIST[333]]\n",
    "#cluster_ages_MIST = np.delete(cluster_ages_MIST, 333)\n",
    "\n",
    "#del [cluster_log_edges_MIST[254]]\n",
    "#del [cluster_log_counts_MIST[254]]\n",
    "#del [cluster_masses_MIST[254]]\n",
    "#cluster_ages_MIST = np.delete(cluster_ages_MIST, 254)"
   ]
  },
  {
   "cell_type": "code",
   "execution_count": 176,
   "id": "ebc5e84a-2a7c-4dce-bbc5-7a3467865173",
   "metadata": {},
   "outputs": [
    {
     "name": "stdout",
     "output_type": "stream",
     "text": [
      "(361, 2, 4)\n",
      "(347, 2, 4)\n",
      "There are some nans in interval 3 Baraffe\n",
      "[ 14  15  38  88 102 182 219 332 340 344]\n",
      "10\n",
      "There are some nans in interval 3 MIST\n",
      "[ 14  97 146 160 161 164 175 198 212 215 294 314 327]\n",
      "13\n",
      "There are some nans in interval 4 Baraffe\n",
      "[  0   1   2   3   4   5   6   7   8   9  10  11  12  13  14  15  16  17\n",
      "  18  19  20  21  22  23  24  25  26  27  28  29  30  31  32  33  34  35\n",
      "  36  37  38  39  40  41  42  43  44  45  46  47  48  49  50  51  52  53\n",
      "  54  55  56  57  58  59  60  61  62  63  64  65  66  67  68  69  70  71\n",
      "  72  73  74  75  76  77  78  79  80  81  82  83  84  85  86  87  88  89\n",
      "  90  91  92  93  94  95  96  97  98  99 100 101 102 103 104 105 106 107\n",
      " 108 109 110 111 112 113 114 115 116 117 118 119 120 121 122 123 124 125\n",
      " 126 127 128 129 130 131 132 133 134 135 136 137 138 139 140 141 142 143\n",
      " 144 145 146 147 148 149 150 151 152 153 154 155 156 157 158 159 160 161\n",
      " 162 163 164 165 166 167 168 169 170 171 172 173 174 175 176 177 178 179\n",
      " 180 181 182 183 184 185 186 187 188 189 190 191 192 193 194 195 196 197\n",
      " 198 199 200 201 202 203 204 205 206 207 208 209 210 211 212 213 214 215\n",
      " 216 217 218 219 220 221 222 223 224 225 226 227 228 229 230 231 232 233\n",
      " 234 235 236 237 238 239 240 241 242 243 244 245 246 247 248 249 250 251\n",
      " 252 253 254 255 256 257 258 259 260 261 262 263 264 265 266 267 268 269\n",
      " 270 271 272 273 274 275 276 277 278 279 280 281 282 283 284 285 286 287\n",
      " 288 289 290 291 292 293 294 295 296 297 298 299 300 301 302 303 304 305\n",
      " 306 307 308 309 310 311 312 313 314 315 316 317 318 319 320 321 322 323\n",
      " 324 325 326 327 328 329 331 332 333 335 336 337 338 339 340 341 342 343\n",
      " 344 345 346 347 348 349 350 351 353 354 355 356 357 358 359 360]\n",
      "358\n",
      "There are some nans in interval 4 MIST\n",
      "[  3   5   6   7   8  10  11  13  14  15  16  17  18  19  20  21  23  24\n",
      "  26  27  28  29  30  31  32  33  34  35  36  37  38  39  41  42  43  44\n",
      "  45  46  47  48  49  50  51  52  53  54  57  58  59  60  61  62  63  64\n",
      "  65  67  68  69  70  71  72  73  74  75  76  78  79  80  81  82  83  84\n",
      "  85  86  87  88  89  90  91  93  94  96  97  98  99 100 101 102 103 104\n",
      " 105 106 107 108 109 110 111 112 113 114 115 116 117 120 121 122 123 124\n",
      " 125 126 127 128 129 130 131 133 134 135 137 138 139 140 141 142 143 144\n",
      " 145 146 147 148 149 150 151 152 153 154 155 156 157 158 159 160 161 163\n",
      " 164 165 166 167 168 169 170 171 172 173 175 176 177 178 179 180 181 182\n",
      " 183 184 185 186 187 188 189 191 192 193 195 196 197 198 199 200 201 202\n",
      " 205 208 209 210 211 212 213 214 215 216 217 219 220 221 224 225 228 230\n",
      " 231 233 234 235 236 237 239 240 241 242 243 244 245 247 248 249 250 251\n",
      " 252 253 254 255 256 257 258 259 260 261 262 263 264 265 267 269 270 272\n",
      " 273 274 275 276 277 279 280 281 282 283 284 286 287 288 289 290 291 292\n",
      " 293 294 295 297 298 299 301 303 304 308 309 311 312 314 316 320 322 326\n",
      " 327 329 334 336 338 340 342 343 345 346]\n",
      "280\n"
     ]
    }
   ],
   "source": [
    "print(all_cluster_params_Baraffe.shape)\n",
    "print(all_cluster_params_MIST.shape)\n",
    "\n",
    "for i in range(2, 4):\n",
    "    if any(np.isnan(all_cluster_params_Baraffe[:, 0, i])):\n",
    "        print(f'There are some nans in interval {i+1} Baraffe')\n",
    "        nan_pos = np.where(np.isnan(all_cluster_params_Baraffe[:, 0, i]))[0]\n",
    "        print(nan_pos)\n",
    "        print(len(nan_pos))\n",
    "    \n",
    "\n",
    "    if any(np.isnan(all_cluster_params_MIST[:, 0, i])):\n",
    "        print(f'There are some nans in interval {i+1} MIST')\n",
    "        nan_pos = np.where(np.isnan(all_cluster_params_MIST[:, 0, i]))[0]\n",
    "        print(nan_pos)\n",
    "        print(len(nan_pos))\n",
    "        \n",
    "        \n",
    "    if any(all_cluster_params_Baraffe[:, 0, i]==0.0):\n",
    "        print(f'There are some zeros in interval {i+1} Baraffe')\n",
    "        zero_pos = np.where(all_cluster_params_Baraffe[:, 0, i]==0.)[0]\n",
    "        print(zero_pos)\n",
    "    \n",
    "    \n",
    "    if any(all_cluster_params_MIST[:, 0, i]==0.0):\n",
    "        print(f'There are some zeros in interval {i+1} MIST')\n",
    "        zero_pos = np.where(all_cluster_params_MIST[:, 0, i]==0.)[0]\n",
    "        print(zero_pos)"
   ]
  }
 ],
 "metadata": {
  "kernelspec": {
   "display_name": "Python 3 (ipykernel)",
   "language": "python",
   "name": "python3"
  },
  "language_info": {
   "codemirror_mode": {
    "name": "ipython",
    "version": 3
   },
   "file_extension": ".py",
   "mimetype": "text/x-python",
   "name": "python",
   "nbconvert_exporter": "python",
   "pygments_lexer": "ipython3",
   "version": "3.9.13"
  }
 },
 "nbformat": 4,
 "nbformat_minor": 5
}
